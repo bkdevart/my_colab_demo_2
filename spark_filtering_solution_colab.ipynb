{
  "cells": [
    {
      "cell_type": "markdown",
      "metadata": {
        "id": "view-in-github",
        "colab_type": "text"
      },
      "source": [
        "<a href=\"https://colab.research.google.com/github/bkdevart/my_colab_demo_2/blob/main/spark_filtering_solution_colab.ipynb\" target=\"_parent\"><img src=\"https://colab.research.google.com/assets/colab-badge.svg\" alt=\"Open In Colab\"/></a>"
      ]
    },
    {
      "cell_type": "code",
      "execution_count": null,
      "metadata": {
        "colab": {
          "base_uri": "https://localhost:8080/"
        },
        "id": "IAwtDu-tU7wv",
        "outputId": "fc3f8663-6f03-4f12-fad8-58488c8cb262"
      },
      "outputs": [
        {
          "name": "stdout",
          "output_type": "stream",
          "text": [
            "Hit:1 https://cloud.r-project.org/bin/linux/ubuntu jammy-cran40/ InRelease\n",
            "Hit:2 https://developer.download.nvidia.com/compute/cuda/repos/ubuntu2204/x86_64  InRelease\n",
            "Hit:3 http://security.ubuntu.com/ubuntu jammy-security InRelease\n",
            "Hit:4 http://archive.ubuntu.com/ubuntu jammy InRelease\n",
            "Hit:5 http://archive.ubuntu.com/ubuntu jammy-updates InRelease\n",
            "Hit:6 http://archive.ubuntu.com/ubuntu jammy-backports InRelease\n",
            "Hit:7 https://ppa.launchpadcontent.net/c2d4u.team/c2d4u4.0+/ubuntu jammy InRelease\n",
            "Hit:8 https://ppa.launchpadcontent.net/deadsnakes/ppa/ubuntu jammy InRelease\n",
            "Hit:9 https://ppa.launchpadcontent.net/graphics-drivers/ppa/ubuntu jammy InRelease\n",
            "Hit:10 https://ppa.launchpadcontent.net/ubuntugis/ppa/ubuntu jammy InRelease\n",
            "Reading package lists... Done\n"
          ]
        }
      ],
      "source": [
        "import os\n",
        "# Find the latest version of spark 3.x  from https://downloads.apache.org/spark/ and enter as the spark version\n",
        "# For example:\n",
        "# spark_version = 'spark-3.5.1'\n",
        "spark_version = 'spark-3.5.1'\n",
        "os.environ['SPARK_VERSION']=spark_version\n",
        "\n",
        "# Install Spark and Java\n",
        "!apt-get update\n",
        "!apt-get install openjdk-11-jdk-headless -qq > /dev/null\n",
        "!wget -q https://downloads.apache.org/spark/$SPARK_VERSION/$SPARK_VERSION-bin-hadoop3.tgz\n",
        "!tar xf $SPARK_VERSION-bin-hadoop3.tgz\n",
        "!pip install -q findspark\n",
        "\n",
        "# Set Environment Variables\n",
        "os.environ[\"JAVA_HOME\"] = \"/usr/lib/jvm/java-11-openjdk-amd64\"\n",
        "os.environ[\"SPARK_HOME\"] = f\"/content/{spark_version}-bin-hadoop3\"\n",
        "\n",
        "# Start a SparkSession\n",
        "import findspark\n",
        "findspark.init()\n"
      ]
    },
    {
      "cell_type": "code",
      "execution_count": null,
      "metadata": {
        "id": "aT1dTYnBU-Nm"
      },
      "outputs": [],
      "source": [
        "# Start Spark session\n",
        "from pyspark.sql import SparkSession\n",
        "spark = SparkSession.builder.appName(\"DataFrameFunctions\").getOrCreate()\n"
      ]
    },
    {
      "cell_type": "code",
      "execution_count": null,
      "metadata": {
        "colab": {
          "base_uri": "https://localhost:8080/"
        },
        "id": "rqt8UBXnU6cf",
        "outputId": "7b13aa0d-c1d7-4eb3-b76d-684f4b128d78"
      },
      "outputs": [
        {
          "name": "stdout",
          "output_type": "stream",
          "text": [
            "+---------------+--------------+----------+---------+----------+-------------+--------------------+\n",
            "|        dish_id|total_calories|total_mass|total_fat|total_carb|total_protein|         ingredients|\n",
            "+---------------+--------------+----------+---------+----------+-------------+--------------------+\n",
            "|dish_1561662216|    300.794281|193.000000|12.387489| 28.218290|    18.633970|soy sauce; garlic...|\n",
            "|dish_1562688426|    137.569992| 88.000000| 8.256000|  5.190000|    10.297000|roasted potatoes;...|\n",
            "|dish_1561662054|    419.438782|292.000000|23.838249| 26.351543|    25.910593|pepper; white ric...|\n",
            "|dish_1562008979|    382.936646|290.000000|22.224644| 10.173570|    35.345387|jalapenos; lemon ...|\n",
            "|dish_1560455030|     20.590000|103.000000| 0.148000|  4.625000|     0.956000|cherry tomatoes; ...|\n",
            "|dish_1558372433|     74.360001|143.000000| 0.286000|  0.429000|    20.020000|          deprecated|\n",
            "|dish_1563379132|    232.050003|119.000000|14.280000| 14.280000|    10.591001|         chilaquiles|\n",
            "|dish_1565640549|     45.482903|139.000000| 1.568471|  7.043886|     2.641478|tomatoes; cilantr...|\n",
            "|dish_1563207364|    309.269989|271.000000|13.774000| 30.657000|    15.010000|scrambled eggs; y...|\n",
            "|dish_1561575474|    120.058434|183.000000| 4.966118| 17.412746|     2.990431|salt; eggplant; r...|\n",
            "|dish_1550795690|     68.119995|131.000000| 0.262000| 18.340000|     0.393000|               apple|\n",
            "|dish_1563216717|    246.007996|332.000000| 5.636517| 16.284782|    33.068710|garlic; squash; c...|\n",
            "|dish_1565972591|    195.199997|122.000000|12.200000|  3.660000|    17.080000|chicken apple sau...|\n",
            "|dish_1568649312|     44.459999| 78.000000| 0.234000| 10.920000|     0.546000|             berries|\n",
            "|dish_1550876012|    253.520004|207.000000| 4.455999| 12.460000|    38.608002|chicken; cantalou...|\n",
            "|dish_1551565034|      7.790000| 19.000000| 0.038000|  1.900000|     0.171000|              carrot|\n",
            "|dish_1550860747|     39.500000| 79.000000| 0.079000| 10.270000|     0.395000|           pineapple|\n",
            "|dish_1566245398|    506.355377|230.000000|31.183908|  4.258222|    49.023197|olive oil; lime; ...|\n",
            "|dish_1563381680|     32.459999|  6.000000| 2.520000|  0.084000|     2.220000|               bacon|\n",
            "|dish_1562183096|     41.188980| 95.000000| 2.571043|  3.280260|     2.804970|pepper; chard; bl...|\n",
            "+---------------+--------------+----------+---------+----------+-------------+--------------------+\n",
            "only showing top 20 rows\n",
            "\n"
          ]
        }
      ],
      "source": [
        "from pyspark import SparkFiles\n",
        "url =\"https://2u-data-curriculum-team.s3.amazonaws.com/dataviz-classroom/v1.2/22-big-data/1/nutrition.csv\"\n",
        "spark.sparkContext.addFile(url)\n",
        "df = spark.read.csv(SparkFiles.get(\"nutrition.csv\"), sep=\",\", header=True, ignoreLeadingWhiteSpace=True) #Observe the need to use ignoreLeadingWhiteSpace=True, otherwise a leading whitespace will appear in the column names\n",
        "\n",
        "# Show DataFrame\n",
        "df.show()\n"
      ]
    },
    {
      "cell_type": "code",
      "execution_count": null,
      "metadata": {
        "colab": {
          "base_uri": "https://localhost:8080/"
        },
        "id": "vs1AjFcOY1Ge",
        "outputId": "0ab88125-fd9f-4bc2-e2a2-6ce7278bf78e"
      },
      "outputs": [
        {
          "name": "stdout",
          "output_type": "stream",
          "text": [
            "root\n",
            " |-- dish_id: string (nullable = true)\n",
            " |-- total_calories: string (nullable = true)\n",
            " |-- total_mass: string (nullable = true)\n",
            " |-- total_fat: string (nullable = true)\n",
            " |-- total_carb: string (nullable = true)\n",
            " |-- total_protein: string (nullable = true)\n",
            " |-- ingredients: string (nullable = true)\n",
            "\n"
          ]
        }
      ],
      "source": [
        "# Note that all the columns were read in as strings\n",
        "df.printSchema()\n"
      ]
    },
    {
      "cell_type": "code",
      "execution_count": null,
      "metadata": {
        "id": "NM3VWcpnY08E"
      },
      "outputs": [],
      "source": [
        "# Import struct fields that we can use\n",
        "from pyspark.sql.types import StructField, StringType, DoubleType, StructType\n"
      ]
    },
    {
      "cell_type": "code",
      "execution_count": null,
      "metadata": {
        "id": "QU1vhBQSY0fV"
      },
      "outputs": [],
      "source": [
        "# Next we need to create the list of struct fields\n",
        "schema = [StructField(\"dish_id\", StringType(), True), StructField(\"total_calories\", DoubleType(), True),\n",
        "        StructField(\"total_mass\", DoubleType(), True), StructField(\"total_fat\", DoubleType(), True),\n",
        "        StructField(\"total_carb\", DoubleType(), True), StructField(\"total_protein\", DoubleType(), True),\n",
        "         StructField(\"ingredients\", StringType(), True)]\n",
        "final = StructType(fields=schema)\n"
      ]
    },
    {
      "cell_type": "code",
      "execution_count": null,
      "metadata": {
        "colab": {
          "base_uri": "https://localhost:8080/"
        },
        "id": "fz7Uqoy8Y0TZ",
        "outputId": "845a77fd-6bc5-4fff-b91e-23da7612765b"
      },
      "outputs": [
        {
          "name": "stdout",
          "output_type": "stream",
          "text": [
            "root\n",
            " |-- dish_id: string (nullable = true)\n",
            " |-- total_calories: double (nullable = true)\n",
            " |-- total_mass: double (nullable = true)\n",
            " |-- total_fat: double (nullable = true)\n",
            " |-- total_carb: double (nullable = true)\n",
            " |-- total_protein: double (nullable = true)\n",
            " |-- ingredients: string (nullable = true)\n",
            "\n"
          ]
        }
      ],
      "source": [
        "# Read our data with our new schema\n",
        "df = spark.read.csv(SparkFiles.get(\"nutrition.csv\"), schema=final, sep=\",\", header=True, ignoreLeadingWhiteSpace=True)\n",
        "df.printSchema()\n"
      ]
    },
    {
      "cell_type": "code",
      "execution_count": null,
      "metadata": {
        "colab": {
          "base_uri": "https://localhost:8080/"
        },
        "id": "-5g3dizBU6c8",
        "outputId": "ea5ce682-d97e-4b98-d88a-f26e1e8644e3"
      },
      "outputs": [
        {
          "name": "stdout",
          "output_type": "stream",
          "text": [
            "+---------------+--------------+----------+---------+----------+-------------+-------------+\n",
            "|        dish_id|total_calories|total_mass|total_fat|total_carb|total_protein|  ingredients|\n",
            "+---------------+--------------+----------+---------+----------+-------------+-------------+\n",
            "|dish_1557861216|           0.0|       1.0|      0.0|       0.0|          0.0|   plate only|\n",
            "|dish_1556575700|           0.0|      86.0|      0.0|       0.0|          0.0|   plate only|\n",
            "|dish_1558461431|          1.15|       5.0|     0.02|      0.18|        0.145|spinach (raw)|\n",
            "|dish_1558460205|          1.84|       8.0|    0.032|     0.288|        0.232|spinach (raw)|\n",
            "|dish_1558459602|          2.07|       9.0|    0.036|     0.324|        0.261|spinach (raw)|\n",
            "+---------------+--------------+----------+---------+----------+-------------+-------------+\n",
            "only showing top 5 rows\n",
            "\n"
          ]
        }
      ],
      "source": [
        "# Order a DataFrame by ascending values\n",
        "df.orderBy(df[\"total_calories\"].asc()).show(5)\n"
      ]
    },
    {
      "cell_type": "code",
      "execution_count": null,
      "metadata": {
        "colab": {
          "base_uri": "https://localhost:8080/"
        },
        "id": "T4R413CIc-29",
        "outputId": "b52107b6-9797-4a36-84da-a1dbd713fdaf"
      },
      "outputs": [
        {
          "name": "stdout",
          "output_type": "stream",
          "text": [
            "+---------------+--------------+----------+----------+----------+-------------+--------------------+\n",
            "|        dish_id|total_calories|total_mass| total_fat|total_carb|total_protein|         ingredients|\n",
            "+---------------+--------------+----------+----------+----------+-------------+--------------------+\n",
            "|dish_1551567573|    9485.81543|     159.0|875.541016|506.078979|    87.785004|olives; sausage; ham|\n",
            "|dish_1551567604|    9485.81543|     159.0|875.541016| 506.07901|    87.785004|ham; sausage; olives|\n",
            "|dish_1551567508|   9170.099609|    7974.0|853.218018|   502.362|    63.792004|              olives|\n",
            "|dish_1560974769|   3943.325195|    3051.0| 10.976549|844.568604|    83.749603|spinach (raw); to...|\n",
            "|dish_1551389588|   2400.780029|     133.0| 27.552002|732.300049|    90.181999|corn; avocado; lemon|\n",
            "+---------------+--------------+----------+----------+----------+-------------+--------------------+\n",
            "only showing top 5 rows\n",
            "\n"
          ]
        }
      ],
      "source": [
        "# Order a DataFrame by descending values\n",
        "df.orderBy(df[\"total_calories\"].desc()).show(5)\n"
      ]
    },
    {
      "cell_type": "code",
      "execution_count": null,
      "metadata": {
        "colab": {
          "base_uri": "https://localhost:8080/"
        },
        "id": "cABogRsVU6dF",
        "outputId": "08d2cc59-9889-40cc-88e0-d076eddda9d3"
      },
      "outputs": [
        {
          "name": "stdout",
          "output_type": "stream",
          "text": [
            "+-------------------+\n",
            "|avg(total_calories)|\n",
            "+-------------------+\n",
            "| 223.98083459731635|\n",
            "+-------------------+\n",
            "\n"
          ]
        }
      ],
      "source": [
        "# Import average function\n",
        "from pyspark.sql.functions import avg\n",
        "df.select(avg(\"total_calories\")).show()\n"
      ]
    },
    {
      "cell_type": "code",
      "execution_count": null,
      "metadata": {
        "colab": {
          "base_uri": "https://localhost:8080/"
        },
        "id": "nzvnfy1hU6dP",
        "outputId": "5bf608d8-d4df-440b-8bca-32eb0395e424",
        "scrolled": true
      },
      "outputs": [
        {
          "name": "stdout",
          "output_type": "stream",
          "text": [
            "+---------------+--------------+----------+---------+----------+-------------+--------------------+\n",
            "|        dish_id|total_calories|total_mass|total_fat|total_carb|total_protein|         ingredients|\n",
            "+---------------+--------------+----------+---------+----------+-------------+--------------------+\n",
            "|dish_1562688426|    137.569992|      88.0|    8.256|      5.19|       10.297|roasted potatoes;...|\n",
            "|dish_1560455030|         20.59|     103.0|    0.148|     4.625|        0.956|cherry tomatoes; ...|\n",
            "|dish_1558372433|     74.360001|     143.0|    0.286|     0.429|        20.02|          deprecated|\n",
            "|dish_1565640549|     45.482903|     139.0| 1.568471|  7.043886|     2.641478|tomatoes; cilantr...|\n",
            "|dish_1561575474|    120.058434|     183.0| 4.966118| 17.412746|     2.990431|salt; eggplant; r...|\n",
            "|dish_1550795690|     68.119995|     131.0|    0.262|     18.34|        0.393|               apple|\n",
            "|dish_1565972591|    195.199997|     122.0|     12.2|      3.66|        17.08|chicken apple sau...|\n",
            "|dish_1568649312|     44.459999|      78.0|    0.234|     10.92|        0.546|             berries|\n",
            "|dish_1551565034|          7.79|      19.0|    0.038|       1.9|        0.171|              carrot|\n",
            "|dish_1550860747|          39.5|      79.0|    0.079|     10.27|        0.395|           pineapple|\n",
            "|dish_1563381680|     32.459999|       6.0|     2.52|     0.084|         2.22|               bacon|\n",
            "|dish_1562183096|      41.18898|      95.0| 2.571043|   3.28026|      2.80497|pepper; chard; bl...|\n",
            "|dish_1550778583|     67.759995|      88.0|    0.088|     14.96|         1.76|            potatoes|\n",
            "|dish_1566417398|     56.892494|      46.0| 5.357862|  2.088042|     0.792647|mustard; vinegar;...|\n",
            "|dish_1568144828|     76.748177|     152.0| 4.168533| 10.369692|     1.329856|salt; pepper; car...|\n",
            "|dish_1550708440|          37.5|      75.0|    0.075|      9.75|        0.375|           pineapple|\n",
            "|dish_1551307090|    171.550003|      52.0|   11.686|     11.48|        6.152|potato chips; bac...|\n",
            "|dish_1562862493|    198.320007|     134.0|    14.74|     2.144|    13.400001|      scrambled eggs|\n",
            "|dish_1558549008|     20.700001|     115.0|     0.23|     4.485|        1.035|     cherry tomatoes|\n",
            "|dish_1551226363|         17.15|      49.0|    0.196|      3.43|        1.176|            broccoli|\n",
            "+---------------+--------------+----------+---------+----------+-------------+--------------------+\n",
            "only showing top 20 rows\n",
            "\n"
          ]
        }
      ],
      "source": [
        "# Using filter\n",
        "df.filter(\"total_calories<200\").show()\n"
      ]
    },
    {
      "cell_type": "code",
      "execution_count": null,
      "metadata": {
        "colab": {
          "base_uri": "https://localhost:8080/"
        },
        "id": "skT6GI75U6dU",
        "outputId": "bf8ed0b2-1026-46be-e2bb-96a7cdacd4e4"
      },
      "outputs": [
        {
          "name": "stdout",
          "output_type": "stream",
          "text": [
            "+----------+---------+----------+-------------+\n",
            "|total_mass|total_fat|total_carb|total_protein|\n",
            "+----------+---------+----------+-------------+\n",
            "|      88.0|    8.256|      5.19|       10.297|\n",
            "|     103.0|    0.148|     4.625|        0.956|\n",
            "|     143.0|    0.286|     0.429|        20.02|\n",
            "|     139.0| 1.568471|  7.043886|     2.641478|\n",
            "|     183.0| 4.966118| 17.412746|     2.990431|\n",
            "|     131.0|    0.262|     18.34|        0.393|\n",
            "|     122.0|     12.2|      3.66|        17.08|\n",
            "|      78.0|    0.234|     10.92|        0.546|\n",
            "|      19.0|    0.038|       1.9|        0.171|\n",
            "|      79.0|    0.079|     10.27|        0.395|\n",
            "|       6.0|     2.52|     0.084|         2.22|\n",
            "|      95.0| 2.571043|   3.28026|      2.80497|\n",
            "|      88.0|    0.088|     14.96|         1.76|\n",
            "|      46.0| 5.357862|  2.088042|     0.792647|\n",
            "|     152.0| 4.168533| 10.369692|     1.329856|\n",
            "|      75.0|    0.075|      9.75|        0.375|\n",
            "|      52.0|   11.686|     11.48|        6.152|\n",
            "|     134.0|    14.74|     2.144|    13.400001|\n",
            "|     115.0|     0.23|     4.485|        1.035|\n",
            "|      49.0|    0.196|      3.43|        1.176|\n",
            "+----------+---------+----------+-------------+\n",
            "only showing top 20 rows\n",
            "\n"
          ]
        }
      ],
      "source": [
        "# Filter by total_calories on certain columns\n",
        "df.filter(\"total_calories<200\").select(['total_mass','total_fat', 'total_carb','total_protein']).show() #excludes the last column (ingredients)\n"
      ]
    },
    {
      "cell_type": "code",
      "execution_count": null,
      "metadata": {
        "colab": {
          "base_uri": "https://localhost:8080/"
        },
        "id": "676BpDicqL41",
        "outputId": "1ee21c2b-be3c-47ab-e911-2dc8b10287c7"
      },
      "outputs": [
        {
          "name": "stdout",
          "output_type": "stream",
          "text": [
            "+---------------+--------------+----------+---------+----------+-------------+--------------------+\n",
            "|        dish_id|total_calories|total_mass|total_fat|total_carb|total_protein|         ingredients|\n",
            "+---------------+--------------+----------+---------+----------+-------------+--------------------+\n",
            "|dish_1562688426|    137.569992|      88.0|    8.256|      5.19|       10.297|roasted potatoes;...|\n",
            "|dish_1560455030|         20.59|     103.0|    0.148|     4.625|        0.956|cherry tomatoes; ...|\n",
            "|dish_1558372433|     74.360001|     143.0|    0.286|     0.429|        20.02|          deprecated|\n",
            "|dish_1565640549|     45.482903|     139.0| 1.568471|  7.043886|     2.641478|tomatoes; cilantr...|\n",
            "|dish_1561575474|    120.058434|     183.0| 4.966118| 17.412746|     2.990431|salt; eggplant; r...|\n",
            "|dish_1550795690|     68.119995|     131.0|    0.262|     18.34|        0.393|               apple|\n",
            "|dish_1565972591|    195.199997|     122.0|     12.2|      3.66|        17.08|chicken apple sau...|\n",
            "|dish_1568649312|     44.459999|      78.0|    0.234|     10.92|        0.546|             berries|\n",
            "|dish_1551565034|          7.79|      19.0|    0.038|       1.9|        0.171|              carrot|\n",
            "|dish_1550860747|          39.5|      79.0|    0.079|     10.27|        0.395|           pineapple|\n",
            "|dish_1563381680|     32.459999|       6.0|     2.52|     0.084|         2.22|               bacon|\n",
            "|dish_1562183096|      41.18898|      95.0| 2.571043|   3.28026|      2.80497|pepper; chard; bl...|\n",
            "|dish_1550778583|     67.759995|      88.0|    0.088|     14.96|         1.76|            potatoes|\n",
            "|dish_1566417398|     56.892494|      46.0| 5.357862|  2.088042|     0.792647|mustard; vinegar;...|\n",
            "|dish_1568144828|     76.748177|     152.0| 4.168533| 10.369692|     1.329856|salt; pepper; car...|\n",
            "|dish_1550708440|          37.5|      75.0|    0.075|      9.75|        0.375|           pineapple|\n",
            "|dish_1551307090|    171.550003|      52.0|   11.686|     11.48|        6.152|potato chips; bac...|\n",
            "|dish_1562862493|    198.320007|     134.0|    14.74|     2.144|    13.400001|      scrambled eggs|\n",
            "|dish_1558549008|     20.700001|     115.0|     0.23|     4.485|        1.035|     cherry tomatoes|\n",
            "|dish_1551226363|         17.15|      49.0|    0.196|      3.43|        1.176|            broccoli|\n",
            "+---------------+--------------+----------+---------+----------+-------------+--------------------+\n",
            "only showing top 20 rows\n",
            "\n"
          ]
        }
      ],
      "source": [
        "# Same results only this time using python\n",
        "df.filter(df[\"total_calories\"] < 200).show()\n"
      ]
    },
    {
      "cell_type": "code",
      "execution_count": null,
      "metadata": {
        "colab": {
          "base_uri": "https://localhost:8080/"
        },
        "id": "aUGeitUBhFBt",
        "outputId": "2005f5f1-13d6-4d83-d105-8cd1fcd630eb"
      },
      "outputs": [
        {
          "name": "stdout",
          "output_type": "stream",
          "text": [
            "+---------------+--------------+----------+---------+----------+-------------+--------------------+\n",
            "|        dish_id|total_calories|total_mass|total_fat|total_carb|total_protein|         ingredients|\n",
            "+---------------+--------------+----------+---------+----------+-------------+--------------------+\n",
            "|dish_1561662216|    300.794281|     193.0|12.387489|  28.21829|     18.63397|soy sauce; garlic...|\n",
            "|dish_1562688426|    137.569992|      88.0|    8.256|      5.19|       10.297|roasted potatoes;...|\n",
            "|dish_1561662054|    419.438782|     292.0|23.838249| 26.351543|    25.910593|pepper; white ric...|\n",
            "|dish_1562008979|    382.936646|     290.0|22.224644|  10.17357|    35.345387|jalapenos; lemon ...|\n",
            "|dish_1560455030|         20.59|     103.0|    0.148|     4.625|        0.956|cherry tomatoes; ...|\n",
            "|dish_1558372433|     74.360001|     143.0|    0.286|     0.429|        20.02|          deprecated|\n",
            "|dish_1563379132|    232.050003|     119.0|    14.28|     14.28|    10.591001|         chilaquiles|\n",
            "|dish_1565640549|     45.482903|     139.0| 1.568471|  7.043886|     2.641478|tomatoes; cilantr...|\n",
            "|dish_1563207364|    309.269989|     271.0|   13.774|    30.657|        15.01|scrambled eggs; y...|\n",
            "|dish_1561575474|    120.058434|     183.0| 4.966118| 17.412746|     2.990431|salt; eggplant; r...|\n",
            "|dish_1550795690|     68.119995|     131.0|    0.262|     18.34|        0.393|               apple|\n",
            "|dish_1563216717|    246.007996|     332.0| 5.636517| 16.284782|     33.06871|garlic; squash; c...|\n",
            "|dish_1565972591|    195.199997|     122.0|     12.2|      3.66|        17.08|chicken apple sau...|\n",
            "|dish_1568649312|     44.459999|      78.0|    0.234|     10.92|        0.546|             berries|\n",
            "|dish_1550876012|    253.520004|     207.0| 4.455999|     12.46|    38.608002|chicken; cantalou...|\n",
            "|dish_1551565034|          7.79|      19.0|    0.038|       1.9|        0.171|              carrot|\n",
            "|dish_1550860747|          39.5|      79.0|    0.079|     10.27|        0.395|           pineapple|\n",
            "|dish_1566245398|    506.355377|     230.0|31.183908|  4.258222|    49.023197|olive oil; lime; ...|\n",
            "|dish_1563381680|     32.459999|       6.0|     2.52|     0.084|         2.22|               bacon|\n",
            "|dish_1562183096|      41.18898|      95.0| 2.571043|   3.28026|      2.80497|pepper; chard; bl...|\n",
            "+---------------+--------------+----------+---------+----------+-------------+--------------------+\n",
            "only showing top 20 rows\n",
            "\n"
          ]
        }
      ],
      "source": [
        "# Filter on the price column for items less than 200 dollars and greater than 80 dollars.\n",
        "df.filter( (df[\"total_calories\"] < 200) | (df['total_mass'] > 80) ).show()\n"
      ]
    },
    {
      "cell_type": "code",
      "execution_count": null,
      "metadata": {
        "colab": {
          "base_uri": "https://localhost:8080/"
        },
        "id": "nsBVhzOwWXbL",
        "outputId": "5bb547a9-d61d-4ac4-8e58-4bce93e0735e"
      },
      "outputs": [
        {
          "name": "stdout",
          "output_type": "stream",
          "text": [
            "+---------------+--------------+----------+---------+----------+-------------+-----------+\n",
            "|        dish_id|total_calories|total_mass|total_fat|total_carb|total_protein|ingredients|\n",
            "+---------------+--------------+----------+---------+----------+-------------+-----------+\n",
            "|dish_1563381680|     32.459999|       6.0|     2.52|     0.084|         2.22|      bacon|\n",
            "|dish_1559319860|     70.330002|      13.0|     5.46|     0.182|         4.81|      bacon|\n",
            "|dish_1562086702|    178.529999|      33.0|    13.86|     0.462|        12.21|      bacon|\n",
            "|dish_1551391710|    102.789993|      19.0|     7.98|     0.266|         7.03|      bacon|\n",
            "|dish_1564073860|    492.309998|      91.0|38.219997|     1.274|    33.670002|      bacon|\n",
            "|dish_1550776767|     81.149994|      15.0|      6.3|      0.21|         5.55|      bacon|\n",
            "|dish_1558032156|    140.660004|      26.0|    10.92|     0.364|         9.62|      bacon|\n",
            "|dish_1551136683|     70.330002|      13.0|     5.46|     0.182|         4.81|      bacon|\n",
            "|dish_1550769483|    113.610001|      21.0|     8.82|     0.294|         7.77|      bacon|\n",
            "|dish_1565974375|    459.849976|      85.0|35.700001|      1.19|    31.450001|      bacon|\n",
            "|dish_1559059954|    108.199997|      20.0|      8.4|      0.28|          7.4|      bacon|\n",
            "|dish_1558031566|    140.660004|      26.0|    10.92|     0.364|         9.62|      bacon|\n",
            "|dish_1551306860|     59.509998|      11.0|     4.62|     0.154|         4.07|      bacon|\n",
            "|dish_1551124637|    108.199997|      20.0|      8.4|      0.28|          7.4|      bacon|\n",
            "|dish_1562603536|     75.739998|      14.0|     5.88|     0.196|         5.18|      bacon|\n",
            "|dish_1559838214|     43.279999|       8.0|     3.36|     0.112|         2.96|      bacon|\n",
            "|dish_1558026714|    129.839996|      24.0|    10.08|     0.336|         8.88|      bacon|\n",
            "|dish_1559232986|    189.349991|      35.0|     14.7|      0.49|        12.95|      bacon|\n",
            "|dish_1561997248|    113.610001|      21.0|     8.82|     0.294|         7.77|      bacon|\n",
            "|dish_1550771191|     81.149994|      15.0|      6.3|      0.21|         5.55|      bacon|\n",
            "+---------------+--------------+----------+---------+----------+-------------+-----------+\n",
            "only showing top 20 rows\n",
            "\n"
          ]
        }
      ],
      "source": [
        "# Filter on a specific value in a column.\n",
        "df.filter(df[\"ingredients\"] == \"bacon\").show()\n"
      ]
    },
    {
      "cell_type": "code",
      "execution_count": null,
      "metadata": {
        "id": "G-fd49QbWZS9"
      },
      "outputs": [],
      "source": []
    }
  ],
  "metadata": {
    "anaconda-cloud": {},
    "colab": {
      "provenance": [],
      "include_colab_link": true
    },
    "kernelspec": {
      "display_name": "Python 3 (ipykernel)",
      "language": "python",
      "name": "python3"
    },
    "language_info": {
      "codemirror_mode": {
        "name": "ipython",
        "version": 3
      },
      "file_extension": ".py",
      "mimetype": "text/x-python",
      "name": "python",
      "nbconvert_exporter": "python",
      "pygments_lexer": "ipython3",
      "version": "3.10.4"
    },
    "varInspector": {
      "cols": {
        "lenName": 16,
        "lenType": 16,
        "lenVar": 40
      },
      "kernels_config": {
        "python": {
          "delete_cmd_postfix": "",
          "delete_cmd_prefix": "del ",
          "library": "var_list.py",
          "varRefreshCmd": "print(var_dic_list())"
        },
        "r": {
          "delete_cmd_postfix": ") ",
          "delete_cmd_prefix": "rm(",
          "library": "var_list.r",
          "varRefreshCmd": "cat(var_dic_list()) "
        }
      },
      "types_to_exclude": [
        "module",
        "function",
        "builtin_function_or_method",
        "instance",
        "_Feature"
      ],
      "window_display": false
    }
  },
  "nbformat": 4,
  "nbformat_minor": 0
}